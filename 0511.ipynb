{
  "nbformat": 4,
  "nbformat_minor": 0,
  "metadata": {
    "colab": {
      "name": "0511.ipynb",
      "provenance": [],
      "authorship_tag": "ABX9TyOnmq9j78lgyierHV3Fiu1J",
      "include_colab_link": true
    },
    "kernelspec": {
      "name": "python3",
      "display_name": "Python 3"
    },
    "language_info": {
      "name": "python"
    }
  },
  "cells": [
    {
      "cell_type": "markdown",
      "metadata": {
        "id": "view-in-github",
        "colab_type": "text"
      },
      "source": [
        "<a href=\"https://colab.research.google.com/github/jiaCen11/introduction-to-Computers/blob/main/0511.ipynb\" target=\"_parent\"><img src=\"https://colab.research.google.com/assets/colab-badge.svg\" alt=\"Open In Colab\"/></a>"
      ]
    },
    {
      "cell_type": "code",
      "execution_count": null,
      "metadata": {
        "colab": {
          "base_uri": "https://localhost:8080/"
        },
        "id": "iqkLH2K80eaT",
        "outputId": "499c1eef-9fc3-46c7-affb-f1ee4a89ebea"
      },
      "outputs": [
        {
          "output_type": "stream",
          "name": "stdout",
          "text": [
            "test\n"
          ]
        }
      ],
      "source": [
        "print(\"test\")\n"
      ]
    },
    {
      "cell_type": "code",
      "source": [
        "temp =float(input(\"請輸入你的體溫:\"))\n",
        "if temp>=37.5:\n",
        "  print(\"體溫過高!\")\n",
        "elif temp >=37 and temp<37.4:\n",
        "  print(\"體溫略高!\")\n",
        "elif temp<=36.9 and temp>=34:\n",
        "  print(\"體溫正常!\")\n",
        "else:\n",
        "  print(\"體溫異常，請重新測量!\") "
      ],
      "metadata": {
        "colab": {
          "base_uri": "https://localhost:8080/"
        },
        "id": "qnfvl3zG1WP7",
        "outputId": "452bf73b-d94c-4626-b38d-ee1edd7a582f"
      },
      "execution_count": null,
      "outputs": [
        {
          "output_type": "stream",
          "name": "stdout",
          "text": [
            "請輸入你的體溫35.6\n",
            "體溫正常!\n"
          ]
        }
      ]
    },
    {
      "cell_type": "code",
      "source": [
        "money =int(input(\"請輸入購物金額:\"))\n",
        "if(money>=10000):\n",
        "  if(money>=100000):\n",
        "    print(\"八折\",money*0.8,end=\"元\\n\")\n",
        "  elif(money>=50000):\n",
        "    print(\"八五折\",money*0.85,end=\"元\\n\")\n",
        "  elif(money>=30000):\n",
        "    print(\"九折\",money*0.9,end=\"元\\n\")\n",
        "  else:\n",
        "    print(\"九五折\",money*0.95,end=\"元\\n\")\n",
        "else:\n",
        "  print(\"沒打折\",money,end=\"元\\n\")"
      ],
      "metadata": {
        "colab": {
          "base_uri": "https://localhost:8080/"
        },
        "id": "fQcrHs641mDx",
        "outputId": "ea63c815-afe4-463e-c921-002b9c634cc9"
      },
      "execution_count": null,
      "outputs": [
        {
          "output_type": "stream",
          "name": "stdout",
          "text": [
            "請輸入購物金額:10000\n",
            "九五折 9500.0元\n"
          ]
        }
      ]
    },
    {
      "cell_type": "code",
      "source": [
        "score=int(input(\"請輸入成績\"))\n",
        "if(score>=60):\n",
        "  if(score>=90):\n",
        "    print(\"A\")\n",
        "  elif(score>=80):\n",
        "    print(\"B\")\n",
        "  elif(score>=70):\n",
        "    print(\"C\")\n",
        "  else:\n",
        "    print(\"D\")\n",
        "else:\n",
        "  print(\"E\")"
      ],
      "metadata": {
        "colab": {
          "base_uri": "https://localhost:8080/"
        },
        "id": "WOBPnl0o9TN0",
        "outputId": "34fae25a-c844-4337-a0dd-76b2d4a90116"
      },
      "execution_count": null,
      "outputs": [
        {
          "output_type": "stream",
          "name": "stdout",
          "text": [
            "請輸入成績59\n",
            "E\n"
          ]
        }
      ]
    },
    {
      "cell_type": "code",
      "source": [
        "month =int(input(\"請輸入月份:\"))\n",
        "if(month<=12):\n",
        "  if(month<=5 and month>=3):\n",
        "    print(month,\"月是春天!\")\n",
        "  elif(month<=8 and month>=3):\n",
        "    print(month,\"月是夏天!\")\n",
        "  elif(month<=11 and month>=3):\n",
        "    print(month,\"月是秋天!\")\n",
        "  else:\n",
        "    print(month,\"月是冬天!\")\n",
        "else:\n",
        "  print(\"月份不在範圍內!\")"
      ],
      "metadata": {
        "colab": {
          "base_uri": "https://localhost:8080/"
        },
        "id": "2STBDL8W5_p7",
        "outputId": "93fde469-c333-4d21-cb16-294c62c95ba7"
      },
      "execution_count": 21,
      "outputs": [
        {
          "output_type": "stream",
          "name": "stdout",
          "text": [
            "請輸入月份:1\n",
            "1 月是冬天!\n"
          ]
        }
      ]
    },
    {
      "cell_type": "code",
      "source": [
        "m=int(input(\"請輸入今年收入淨額:\"))\n",
        "if(m>=300000):\n",
        "  if(m>=2000000):\n",
        "    print(\"付稅金額:\",m*0.3,end=\"元\\n\")\n",
        "  elif(m>=1000000):\n",
        "    print(\"付稅金額:\",m*0.21,end=\"元\\n\")\n",
        "  elif(m>=600000):\n",
        "    print(\"付稅金額:\",m*0.13,end=\"元\\n\")\n",
        "  else:\n",
        "    print(\"付稅金額:\",m*0.06,end=\"元\\n\")\n",
        "else:\n",
        "  print(\"付稅金額:\",m*0,end=\"元\\n\")"
      ],
      "metadata": {
        "colab": {
          "base_uri": "https://localhost:8080/"
        },
        "id": "TMHMmTP99R5Z",
        "outputId": "63b7a3e7-309c-466a-fe43-f1b4e6afb162"
      },
      "execution_count": null,
      "outputs": [
        {
          "output_type": "stream",
          "name": "stdout",
          "text": [
            "請輸入今年收入淨額:12\n",
            "付稅金額: 0元\n"
          ]
        }
      ]
    }
  ]
}